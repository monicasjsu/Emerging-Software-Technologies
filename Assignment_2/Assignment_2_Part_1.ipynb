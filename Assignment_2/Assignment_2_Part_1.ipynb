{
  "nbformat": 4,
  "nbformat_minor": 0,
  "metadata": {
    "colab": {
      "name": "GradientTape.ipynb",
      "provenance": [],
      "include_colab_link": true
    },
    "kernelspec": {
      "name": "python3",
      "display_name": "Python 3"
    }
  },
  "cells": [
    {
      "cell_type": "markdown",
      "metadata": {
        "id": "view-in-github",
        "colab_type": "text"
      },
      "source": [
        "<a href=\"https://colab.research.google.com/github/monicasjsu/Emerging-Software-Technologies/blob/master/Assignment_2/Assignment_2_Part_1.ipynb\" target=\"_parent\"><img src=\"https://colab.research.google.com/assets/colab-badge.svg\" alt=\"Open In Colab\"/></a>"
      ]
    },
    {
      "cell_type": "markdown",
      "metadata": {
        "id": "q1O3uWUd-rM7",
        "colab_type": "text"
      },
      "source": [
        "# Using Gradient Tape and low level Tensorflow to build a Linear Classifier\n"
      ]
    },
    {
      "cell_type": "code",
      "metadata": {
        "id": "PBeuAEuZ-kQG",
        "colab_type": "code",
        "colab": {}
      },
      "source": [
        "import numpy as np\n",
        "import pandas as pd\n",
        "import tensorflow as tf\n",
        "import random\n",
        "import matplotlib.pyplot as plt\n",
        "%matplotlib inline"
      ],
      "execution_count": null,
      "outputs": []
    },
    {
      "cell_type": "markdown",
      "metadata": {
        "id": "FbDfr3mw_yoy",
        "colab_type": "text"
      },
      "source": [
        "Trying to compute gradients using Gradient Tape\n",
        "\n",
        "**Gradient Tape:**\n",
        "\n",
        "`tf.GradientTape` allows us to track TensorFlow computations and calculate gradients with respect to some given input variables.\n",
        "We calculate gradients of a calculation w.r.t. a variable with \n",
        "`tape.gradient()`. If we want to use multiple variables in our calculations, all we need to do is give `tape.gradient` a list or tuple of those variables."
      ]
    },
    {
      "cell_type": "code",
      "metadata": {
        "id": "rnheKWjdBqfY",
        "colab_type": "code",
        "colab": {
          "base_uri": "https://localhost:8080/",
          "height": 34
        },
        "outputId": "9ba243e9-a81a-47d0-8c63-614a6342cb57"
      },
      "source": [
        "x = tf.constant(3.0)\n",
        "with tf.GradientTape() as tape:\n",
        "    tape.watch(x)\n",
        "    y = x**3\n",
        "\n",
        "print(tape.gradient(y, x).numpy())"
      ],
      "execution_count": null,
      "outputs": [
        {
          "output_type": "stream",
          "text": [
            "27.0\n"
          ],
          "name": "stdout"
        }
      ]
    },
    {
      "cell_type": "markdown",
      "metadata": {
        "id": "ui9omow2Dos_",
        "colab_type": "text"
      },
      "source": [
        "`GradientTape.gradient` can only be called once on non-persistent tapes. \n",
        "we need to set `persistent=True` for calling `tape.gradient` for the second time."
      ]
    },
    {
      "cell_type": "code",
      "metadata": {
        "id": "tz8qEqSXDBqI",
        "colab_type": "code",
        "colab": {
          "base_uri": "https://localhost:8080/",
          "height": 51
        },
        "outputId": "a6124421-7ebf-433e-d854-6743162a440d"
      },
      "source": [
        "a = tf.Variable(6.0, trainable=True)\n",
        "b = tf.Variable(2.0, trainable=True)\n",
        "with tf.GradientTape(persistent=True) as tape:\n",
        "    y1 = a ** 2\n",
        "    y2 = b ** 3\n",
        "                                                                                                                                                                                                                                                                                                                                                \n",
        "print(tape.gradient(y1, a).numpy())\n",
        "print(tape.gradient(y2, b).numpy())"
      ],
      "execution_count": null,
      "outputs": [
        {
          "output_type": "stream",
          "text": [
            "12.0\n",
            "12.0\n"
          ],
          "name": "stdout"
        }
      ]
    },
    {
      "cell_type": "markdown",
      "metadata": {
        "id": "iz7Wf4ALEczy",
        "colab_type": "text"
      },
      "source": [
        "# **Building a Linear Classifier using GradientTape**"
      ]
    },
    {
      "cell_type": "markdown",
      "metadata": {
        "id": "HwNdVyYcFd4W",
        "colab_type": "text"
      },
      "source": [
        "Building a Linear Classifier"
      ]
    },
    {
      "cell_type": "code",
      "metadata": {
        "id": "Zt89aDE6Edi8",
        "colab_type": "code",
        "colab": {}
      },
      "source": [
        "input_dim = 2\n",
        "output_dim = 1\n",
        "learning_rate = 0.01\n",
        "\n",
        "# This is our weight matrix\n",
        "w = tf.Variable(tf.random.uniform(shape=(input_dim, output_dim)))\n",
        "# This is our bias vector\n",
        "b = tf.Variable(tf.zeros(shape=(output_dim,)))\n",
        "\n",
        "def compute_predictions(features):\n",
        "  return tf.matmul(features, w) + b\n",
        "\n",
        "def compute_loss(labels, predictions):\n",
        "  return tf.reduce_mean(tf.square(labels - predictions))\n",
        "\n",
        "def train_on_batch(x, y):\n",
        "  with tf.GradientTape() as tape:\n",
        "    predictions = compute_predictions(x)\n",
        "    loss = compute_loss(y, predictions)\n",
        "    # Note that `tape.gradient` works with a list as well (w, b).\n",
        "    dloss_dw, dloss_db = tape.gradient(loss, [w, b])\n",
        "  w.assign_sub(learning_rate * dloss_dw)\n",
        "  b.assign_sub(learning_rate * dloss_db)\n",
        "  return loss"
      ],
      "execution_count": null,
      "outputs": []
    },
    {
      "cell_type": "markdown",
      "metadata": {
        "id": "BBlVDSVcFApu",
        "colab_type": "text"
      },
      "source": [
        "Preparing artificail dataset to run the model"
      ]
    },
    {
      "cell_type": "code",
      "metadata": {
        "id": "N3btbVMREzsU",
        "colab_type": "code",
        "colab": {
          "base_uri": "https://localhost:8080/",
          "height": 282
        },
        "outputId": "0b4dd914-e666-4e90-99ff-16998a9547d1"
      },
      "source": [
        "num_samples = 10000\n",
        "negative_samples = np.random.multivariate_normal(\n",
        "    mean=[0, 3], cov=[[1, 0.5],[0.5, 1]], size=num_samples)\n",
        "positive_samples = np.random.multivariate_normal(\n",
        "    mean=[3, 0], cov=[[1, 0.5],[0.5, 1]], size=num_samples)\n",
        "features = np.vstack((negative_samples, positive_samples)).astype(np.float32)\n",
        "labels = np.vstack((np.zeros((num_samples, 1), dtype='float32'),\n",
        "                    np.ones((num_samples, 1), dtype='float32')))\n",
        "\n",
        "plt.scatter(features[:, 0], features[:, 1], c=labels[:, 0])"
      ],
      "execution_count": null,
      "outputs": [
        {
          "output_type": "execute_result",
          "data": {
            "text/plain": [
              "<matplotlib.collections.PathCollection at 0x7fc7fb82cb00>"
            ]
          },
          "metadata": {
            "tags": []
          },
          "execution_count": 5
        },
        {
          "output_type": "display_data",
          "data": {
            "image/png": "[encoded data removed]",
            "text/plain": [
              "<Figure size 432x288 with 1 Axes>"
            ]
          },
          "metadata": {
            "tags": [],
            "needs_background": "light"
          }
        }
      ]
    },
    {
      "cell_type": "code",
      "metadata": {
        "id": "-UsSSJ_KFMLa",
        "colab_type": "code",
        "colab": {}
      },
      "source": [
        "# Shuffle the data.\n",
        "indices = np.random.permutation(len(features))\n",
        "features = features[indices]\n",
        "labels = labels[indices]"
      ],
      "execution_count": null,
      "outputs": []
    },
    {
      "cell_type": "code",
      "metadata": {
        "id": "2vpYLJgrFLiz",
        "colab_type": "code",
        "colab": {
          "base_uri": "https://localhost:8080/",
          "height": 187
        },
        "outputId": "41b7d8fb-9a0a-4af0-c029-ae740d071f66"
      },
      "source": [
        "# Create a tf.data.Dataset object for easy batched iteration\n",
        "dataset = tf.data.Dataset.from_tensor_slices((features, labels))\n",
        "dataset = dataset.shuffle(buffer_size=1024).batch(256)\n",
        "\n",
        "for epoch in range(10):\n",
        "  for step, (x, y) in enumerate(dataset):\n",
        "    loss = train_on_batch(x, y)\n",
        "  print('Epoch %d: last batch loss = %.4f' % (epoch, float(loss)))"
      ],
      "execution_count": null,
      "outputs": [
        {
          "output_type": "stream",
          "text": [
            "Epoch 0: last batch loss = 0.0756\n",
            "Epoch 1: last batch loss = 0.0782\n",
            "Epoch 2: last batch loss = 0.0424\n",
            "Epoch 3: last batch loss = 0.0394\n",
            "Epoch 4: last batch loss = 0.0363\n",
            "Epoch 5: last batch loss = 0.0260\n",
            "Epoch 6: last batch loss = 0.0308\n",
            "Epoch 7: last batch loss = 0.0268\n",
            "Epoch 8: last batch loss = 0.0352\n",
            "Epoch 9: last batch loss = 0.0170\n"
          ],
          "name": "stdout"
        }
      ]
    },
    {
      "cell_type": "markdown",
      "metadata": {
        "id": "SWXYqSVeFl4S",
        "colab_type": "text"
      },
      "source": [
        "Checking the predictions given by our model"
      ]
    },
    {
      "cell_type": "code",
      "metadata": {
        "id": "G8T5nf8IFk_g",
        "colab_type": "code",
        "colab": {
          "base_uri": "https://localhost:8080/",
          "height": 282
        },
        "outputId": "4be13602-67af-4535-a888-f99717a3da7e"
      },
      "source": [
        "predictions = compute_predictions(features)\n",
        "plt.scatter(features[:, 0], features[:, 1], c=predictions[:, 0] > 0.5)"
      ],
      "execution_count": null,
      "outputs": [
        {
          "output_type": "execute_result",
          "data": {
            "text/plain": [
              "<matplotlib.collections.PathCollection at 0x7fc7fab34668>"
            ]
          },
          "metadata": {
            "tags": []
          },
          "execution_count": 8
        },
        {
          "output_type": "display_data",
          "data": {
            "image/png": "[encoded data removed]",
            "text/plain": [
              "<Figure size 432x288 with 1 Axes>"
            ]
          },
          "metadata": {
            "tags": [],
            "needs_background": "light"
          }
        }
      ]
    }
  ]
}